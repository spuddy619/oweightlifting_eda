{
 "cells": [
  {
   "cell_type": "code",
   "execution_count": null,
   "id": "1713aa8d",
   "metadata": {},
   "outputs": [],
   "source": [
    "### These blocks of code is dedicated to scraping and storing a list of all the pertinent URLs for Weightlifting in the Summer Olympics ###\n",
    "\n",
    "from bs4 import BeautifulSoup\n",
    "import requests\n",
    "\n"
   ]
  },
  {
   "cell_type": "code",
   "execution_count": null,
   "id": "f6e2b7bd",
   "metadata": {},
   "outputs": [],
   "source": [
    "#1.) Set URL variable - a URL with links to all the other pertinent Weightlifting at the Summer Olympics links\n",
    "url_origin= 'https://en.wikipedia.org/wiki/Weightlifting_at_the_1976_Summer_Olympics'\n",
    "\n",
    "#2.) Get request for URL\n",
    "s = requests.Session()\n",
    "response = s.get(url_origin, timeout=10)\n",
    "\n"
   ]
  },
  {
   "cell_type": "code",
   "execution_count": null,
   "id": "87a19f4e",
   "metadata": {},
   "outputs": [],
   "source": [
    "#3.) parse the response content to html so we can work with it~\n",
    "soup = BeautifulSoup(response.content, 'html.parser') \n",
    "\n",
    "#4.) In preparation of the url retrieval, lets have a variable to house the retrieved data in!\n",
    "url_home = [url_origin]\n",
    "\n"
   ]
  },
  {
   "cell_type": "code",
   "execution_count": null,
   "id": "7791e532",
   "metadata": {},
   "outputs": [],
   "source": [
    "#5.) Scrape the URL and use find_all to discover all the other URLs \n",
    "# We are going to turn the information we want into an accessible, list form via \"find_all\" \n",
    "url_data = soup.find_all(\"td\", {\"colspan\":\"2\", \"class\":\"navbox-list navbox-odd hlist\", \"style\":\"width:100%;padding:0\"}) \n",
    "(url_data[1]) # this prints out the 2nd <td> tag with {\"colspan\":\"2\", \"class\":\"navbox-list navbox-odd hlist\", \"style\":\"width:100%;padding:0\"} which is the one we want\n",
    "\n"
   ]
  },
  {
   "cell_type": "code",
   "execution_count": null,
   "id": "72888375",
   "metadata": {},
   "outputs": [],
   "source": [
    "#6.) Lets loop through the chunk of data we extracted (url_data) and perform actions that will a.) take out the pertinent links and then b.) store it in our url_home\n",
    "url_prefix = 'https://en.wikipedia.org'\n",
    "i = 0\n",
    "for link in url_data[1].find_all(\"a\"):\n",
    "    i += 1\n",
    "    url_suffix = link.get('href')\n",
    "    if isinstance(url_suffix, str) == True:         #eliminate the first couple entries as they are before 1976 Olympics\n",
    "        url_full = url_prefix + url_suffix\n",
    "    if i >16 and i<28:  #to limit the URL additions to the pertinent Summer Olympics we desire () -- Pinpoint the specific window of time that we want\n",
    "        url_home.append(url_full)\n",
    "print(url_home)\n",
    "\n"
   ]
  },
  {
   "cell_type": "code",
   "execution_count": null,
   "id": "e4dc41ff",
   "metadata": {},
   "outputs": [],
   "source": []
  }
 ],
 "metadata": {
  "kernelspec": {
   "display_name": "Python 3 (ipykernel)",
   "language": "python",
   "name": "python3"
  },
  "language_info": {
   "codemirror_mode": {
    "name": "ipython",
    "version": 3
   },
   "file_extension": ".py",
   "mimetype": "text/x-python",
   "name": "python",
   "nbconvert_exporter": "python",
   "pygments_lexer": "ipython3",
   "version": "3.11.5"
  }
 },
 "nbformat": 4,
 "nbformat_minor": 5
}
