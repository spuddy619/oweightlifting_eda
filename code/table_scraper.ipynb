{
 "cells": [
  {
   "cell_type": "code",
   "execution_count": 2,
   "id": "8af10dc0",
   "metadata": {},
   "outputs": [
    {
     "name": "stdout",
     "output_type": "stream",
     "text": [
      "['https://en.wikipedia.org/wiki/Weightlifting_at_the_1976_Summer_Olympics', 'https://en.wikipedia.org/wiki/Weightlifting_at_the_1980_Summer_Olympics', 'https://en.wikipedia.org/wiki/Weightlifting_at_the_1984_Summer_Olympics', 'https://en.wikipedia.org/wiki/Weightlifting_at_the_1988_Summer_Olympics', 'https://en.wikipedia.org/wiki/Weightlifting_at_the_1992_Summer_Olympics', 'https://en.wikipedia.org/wiki/Weightlifting_at_the_1996_Summer_Olympics', 'https://en.wikipedia.org/wiki/Weightlifting_at_the_2000_Summer_Olympics', 'https://en.wikipedia.org/wiki/Weightlifting_at_the_2004_Summer_Olympics', 'https://en.wikipedia.org/wiki/Weightlifting_at_the_2008_Summer_Olympics', 'https://en.wikipedia.org/wiki/Weightlifting_at_the_2012_Summer_Olympics', 'https://en.wikipedia.org/wiki/Weightlifting_at_the_2016_Summer_Olympics', 'https://en.wikipedia.org/wiki/Weightlifting_at_the_2020_Summer_Olympics']\n"
     ]
    }
   ],
   "source": [
    "### These blocks of code is dedicated to scraping and storing a list of all the pertinent URLs for Weightlifting in the Summer Olympics ###\n",
    "### from 'url_scraper'\n",
    "from bs4 import BeautifulSoup\n",
    "import requests\n",
    "import pandas as pd\n",
    "import matplotlib\n",
    "\n",
    "#1.) Set URL variable - a URL with links to all the other pertinent Weightlifting at the Summer Olympics links\n",
    "url_origin= 'https://en.wikipedia.org/wiki/Weightlifting_at_the_1976_Summer_Olympics'\n",
    "\n",
    "#2.) Get request for URL\n",
    "s = requests.Session()\n",
    "response = s.get(url_origin, timeout=10)\n",
    "\n",
    "\n",
    "\n",
    "#3.) parse the response content to html so we can work with it~\n",
    "soup = BeautifulSoup(response.content, 'html.parser') \n",
    "\n",
    "#4.) In preparation of the url retrieval, lets have a variable to house the retrieved data in!\n",
    "url_home = [url_origin]\n",
    "\n",
    "\n",
    "\n",
    "#5.) Scrape the URL and use find_all to discover all the other URLs \n",
    "# We are going to turn the information we want into an accessible, list form via \"find_all\" \n",
    "url_data = soup.find_all(\"td\", {\"colspan\":\"2\", \"class\":\"navbox-list navbox-odd hlist\", \"style\":\"width:100%;padding:0\"}) \n",
    "(url_data[1]) # this prints out the 2nd <td> tag with {\"colspan\":\"2\", \"class\":\"navbox-list navbox-odd hlist\", \"style\":\"width:100%;padding:0\"} which is the one we want\n",
    "\n",
    "\n",
    "\n",
    "#6.) Lets loop through the chunk of data we extracted (url_data) and perform actions that will a.) take out the pertinent links and then b.) store it in our url_home\n",
    "url_prefix = 'https://en.wikipedia.org'\n",
    "i = 0\n",
    "for link in url_data[1].find_all(\"a\"):\n",
    "    i += 1\n",
    "    url_suffix = link.get('href')\n",
    "    if isinstance(url_suffix, str) == True:         #eliminate the first couple entries as they are before 1976 Olympics\n",
    "        url_full = url_prefix + url_suffix\n",
    "    if i >16 and i<28:  #to limit the URL additions to the pertinent Summer Olympics we desire () -- Pinpoint the specific window of time that we want\n",
    "        url_home.append(url_full)\n",
    "print(url_home)\n",
    "\n",
    "\n",
    "\n"
   ]
  },
  {
   "cell_type": "code",
   "execution_count": 8,
   "id": "aac6792b",
   "metadata": {},
   "outputs": [
    {
     "name": "stdout",
     "output_type": "stream",
     "text": [
      "    Year\n",
      "0   1976\n",
      "1   1980\n",
      "2   1984\n",
      "3   1988\n",
      "4   1992\n",
      "5   1996\n",
      "6   2000\n",
      "7   2004\n",
      "8   2008\n",
      "9   2012\n",
      "10  2016\n",
      "11  2020\n"
     ]
    }
   ],
   "source": [
    "#7.) Now we begin to loop through url_home and with each URL, extract and store the medal table\n",
    "## surely the tables must look similar page to page\n",
    "\n",
    "#Create new dataframe to store the scraped information\n",
    "empty_df= pd.DataFrame(list(range(1976, 2024, 4)), columns=[\"Year\"])\n",
    "print(empty_df)\n",
    "\n",
    "for url in url_home:\n",
    "    s = requests.Session()\n",
    "    response = s.get(url, timeout=10)\n",
    "    \n",
    "    soup=BeautifulSoup(response.content, 'html.parser')\n",
    "    medal_table_html = soup.find (\"table\",{\"class\":\"wikitable sortable plainrowheaders jquery-tablesorter\"})\n",
    "    #now turn this list into a dataframe\n",
    "    medal_table = pd.read_html(str(medal_table_html)) #.read_html reads HTML tables into a list of df objects\n",
    "#     print(medal_table[0])\n",
    "    medal_table = pd.DataFrame(medal_table[0])\n",
    "    #store the tables how?  do i need to? i am trying to eda so... I should store them and apply pandas analysis?\n",
    "\n",
    "#     print(medal_table.head())\n",
    "    \n",
    "    \n",
    "    "
   ]
  },
  {
   "cell_type": "code",
   "execution_count": null,
   "id": "2f343fc8",
   "metadata": {},
   "outputs": [],
   "source": [
    "# now we iterate through medal_table and add the pertinent columns from each table into empty_df\n",
    "for i, table in enumerate(medal_table):\n",
    "    \n",
    "    \n",
    "    "
   ]
  },
  {
   "cell_type": "code",
   "execution_count": null,
   "id": "e19871a0",
   "metadata": {},
   "outputs": [],
   "source": []
  },
  {
   "cell_type": "code",
   "execution_count": null,
   "id": "3aaa7366",
   "metadata": {},
   "outputs": [],
   "source": []
  }
 ],
 "metadata": {
  "kernelspec": {
   "display_name": "Python 3 (ipykernel)",
   "language": "python",
   "name": "python3"
  },
  "language_info": {
   "codemirror_mode": {
    "name": "ipython",
    "version": 3
   },
   "file_extension": ".py",
   "mimetype": "text/x-python",
   "name": "python",
   "nbconvert_exporter": "python",
   "pygments_lexer": "ipython3",
   "version": "3.11.5"
  }
 },
 "nbformat": 4,
 "nbformat_minor": 5
}
